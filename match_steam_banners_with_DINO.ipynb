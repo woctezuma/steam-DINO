{
  "nbformat": 4,
  "nbformat_minor": 0,
  "metadata": {
    "colab": {
      "name": "match-steam-banners-with-DINO.ipynb",
      "provenance": []
    },
    "kernelspec": {
      "name": "python3",
      "display_name": "Python 3"
    },
    "accelerator": "GPU"
  },
  "cells": [
    {
      "cell_type": "markdown",
      "metadata": {
        "id": "G6SvalVrCEwC"
      },
      "source": [
        "# Match Steam Banners with Facebook's DINO\n",
        "\n",
        "Code inspired from:\n",
        "-   https://github.com/woctezuma/match-steam-banners\n",
        "-   https://github.com/woctezuma/steam-CLIP\n",
        "-   https://github.com/woctezuma/steam-DINO"
      ]
    },
    {
      "cell_type": "markdown",
      "metadata": {
        "id": "vCYWI2CASdE6"
      },
      "source": [
        "## Setting"
      ]
    },
    {
      "cell_type": "markdown",
      "metadata": {
        "id": "jr5Qn-3DZSQC"
      },
      "source": [
        "### Check CUDA version\n",
        "\n",
        "We assume CUDA version is 10.1 in the installation section."
      ]
    },
    {
      "cell_type": "code",
      "metadata": {
        "id": "yqqPBW7jZQkB"
      },
      "source": [
        "import subprocess\n",
        "\n",
        "CUDA_version = [s for s in subprocess.check_output([\"nvcc\", \"--version\"]).decode(\"UTF-8\").split(\", \") if s.startswith(\"release\")][0].split(\" \")[-1]\n",
        "print(\"CUDA version:\", CUDA_version)"
      ],
      "execution_count": null,
      "outputs": []
    },
    {
      "cell_type": "markdown",
      "metadata": {
        "id": "G8TKl2-1S-7q"
      },
      "source": [
        "### Clone my repository"
      ]
    },
    {
      "cell_type": "code",
      "metadata": {
        "id": "Bmuk3GKIaWs1"
      },
      "source": [
        "%cd /content/"
      ],
      "execution_count": null,
      "outputs": []
    },
    {
      "cell_type": "code",
      "metadata": {
        "id": "o7PV2sIITBY2"
      },
      "source": [
        "!rm -rf match-steam-banners/\n",
        "\n",
        "!git clone https://github.com/woctezuma/match-steam-banners.git"
      ],
      "execution_count": null,
      "outputs": []
    },
    {
      "cell_type": "markdown",
      "metadata": {
        "id": "CV2RZLacSpv3"
      },
      "source": [
        "### Install Python requirements"
      ]
    },
    {
      "cell_type": "code",
      "metadata": {
        "id": "ggG_hlZAaVGf"
      },
      "source": [
        "%cd /content/match-steam-banners/\n",
        "\n",
        "!git pull\n",
        "\n",
        "# Switch to the branch tailored for DINO\n",
        "!git checkout facebook-dino"
      ],
      "execution_count": null,
      "outputs": []
    },
    {
      "cell_type": "code",
      "metadata": {
        "id": "PJM-H04GD26p"
      },
      "source": [
        "# !pip install -r requirements.txt -f https://download.pytorch.org/whl/torch_stable.html\n",
        "!pip install --upgrade pip\n",
        "!pip install ftfy"
      ],
      "execution_count": null,
      "outputs": []
    },
    {
      "cell_type": "code",
      "metadata": {
        "id": "5UjJHxY_Zd6l"
      },
      "source": [
        "import numpy as np\n",
        "import torch\n",
        "\n",
        "print(\"Torch version:\", torch.__version__)"
      ],
      "execution_count": null,
      "outputs": []
    },
    {
      "cell_type": "code",
      "metadata": {
        "id": "S9ZooJ13Xgfn"
      },
      "source": [
        "# !pip install git+https://github.com/openai/CLIP.git\n",
        "!git clone https://github.com/openai/CLIP.git\n",
        "%mv CLIP/clip ."
      ],
      "execution_count": null,
      "outputs": []
    },
    {
      "cell_type": "markdown",
      "metadata": {
        "id": "6W-6hqiqzX4W"
      },
      "source": [
        "### Copy utility functions from Facebook's DINO repository"
      ]
    },
    {
      "cell_type": "code",
      "metadata": {
        "id": "b6KNTXwDZF3G"
      },
      "source": [
        "!git clone https://github.com/facebookresearch/dino.git\n",
        "%mv dino/vision_transformer.py .\n",
        "%mv dino/utils.py ."
      ],
      "execution_count": null,
      "outputs": []
    },
    {
      "cell_type": "markdown",
      "metadata": {
        "id": "HyOFItqaVLwR"
      },
      "source": [
        "## Image data"
      ]
    },
    {
      "cell_type": "markdown",
      "metadata": {
        "id": "UlwQntJBShTv"
      },
      "source": [
        "### Mount Google Drive"
      ]
    },
    {
      "cell_type": "code",
      "metadata": {
        "id": "VLf81jekSuwF"
      },
      "source": [
        "!pip install Google-Colab-Transfer"
      ],
      "execution_count": null,
      "outputs": []
    },
    {
      "cell_type": "code",
      "metadata": {
        "id": "-0HryXP5Sw61"
      },
      "source": [
        "import colab_transfer\n",
        "\n",
        "colab_transfer.mount_google_drive()"
      ],
      "execution_count": null,
      "outputs": []
    },
    {
      "cell_type": "markdown",
      "metadata": {
        "id": "ph4E9dRfTgll"
      },
      "source": [
        "### Import image data from Google Drive"
      ]
    },
    {
      "cell_type": "markdown",
      "metadata": {
        "id": "tE4LB1mEVbTr"
      },
      "source": [
        "#### First batch of downloaded data, at 224x224 resolution"
      ]
    },
    {
      "cell_type": "code",
      "metadata": {
        "id": "TW3-os1vCMig"
      },
      "source": [
        "# colab_transfer.copy_file('resized_vertical_steam_banners_224.tar',\n",
        "#                          source='/content/drive/MyDrive/data/',\n",
        "#                          destination='/content/match-steam-banners/data/')\n",
        "\n",
        "# Alternatively, run:\n",
        "\n",
        "!gdown --id 1--cxY3jvTVWq-lZt8NvfN2fHND7YhKN4\n",
        "%mkdir -p data/\n",
        "%mv resized_vertical_steam_banners_224.tar data/"
      ],
      "execution_count": null,
      "outputs": []
    },
    {
      "cell_type": "code",
      "metadata": {
        "id": "PScsFfO-C8f-"
      },
      "source": [
        "%cd /content/match-steam-banners/\n",
        "!tar -xf data/resized_vertical_steam_banners_224.tar"
      ],
      "execution_count": null,
      "outputs": []
    },
    {
      "cell_type": "code",
      "metadata": {
        "id": "mk5YlHQNdCte"
      },
      "source": [
        "%cd /content/match-steam-banners/\n",
        "%mv data/resized_vertical_steam_banners_224 data/resized_vertical_steam_banners"
      ],
      "execution_count": null,
      "outputs": []
    },
    {
      "cell_type": "markdown",
      "metadata": {
        "id": "eJawilggVis-"
      },
      "source": [
        "#### Second batch of downloaded data, at 256x256 resolution"
      ]
    },
    {
      "cell_type": "code",
      "metadata": {
        "id": "nC-pV4keUpDp"
      },
      "source": [
        "!gdown --id 1-8d3g7ZKS-E3A60jUqnPyxYPJGTeJx7F\n",
        "%mkdir -p data/\n",
        "%mv resized_vertical_steam_banners_256_v2_delta_only.tar data/"
      ],
      "execution_count": null,
      "outputs": []
    },
    {
      "cell_type": "code",
      "metadata": {
        "id": "BjxFYSbMVWur"
      },
      "source": [
        "%cd /content/match-steam-banners/\n",
        "!tar -xf data/resized_vertical_steam_banners_256_v2_delta_only.tar"
      ],
      "execution_count": null,
      "outputs": []
    },
    {
      "cell_type": "code",
      "metadata": {
        "id": "UAEreFCKWcVT"
      },
      "source": [
        "!apt-get update > /dev/null\n",
        "!apt-get install imagemagick > /dev/null"
      ],
      "execution_count": null,
      "outputs": []
    },
    {
      "cell_type": "code",
      "metadata": {
        "id": "Q1PkzCBnVz6G"
      },
      "source": [
        "%cd /content/match-steam-banners/\n",
        "%mv content/data/resized_vertical_steam_banners data/resized_vertical_steam_banners_256"
      ],
      "execution_count": null,
      "outputs": []
    },
    {
      "cell_type": "code",
      "metadata": {
        "id": "-9ij2YoLWzDm"
      },
      "source": [
        "!mogrify \\\n",
        " -resize '224x224!' \\\n",
        " -path /content/match-steam-banners/data/resized_vertical_steam_banners \\\n",
        " /content/match-steam-banners/data/resized_vertical_steam_banners_256/*.jpg"
      ],
      "execution_count": null,
      "outputs": []
    },
    {
      "cell_type": "markdown",
      "source": [
        "### Alternatively, import image data from Github Releases"
      ],
      "metadata": {
        "id": "X7ZkH9xv_sW-"
      }
    },
    {
      "cell_type": "code",
      "source": [
        "%cd /content/\n",
        "%mkdir -p match-steam-banners/data"
      ],
      "metadata": {
        "id": "ZpLpXoy8_rsV"
      },
      "execution_count": null,
      "outputs": []
    },
    {
      "cell_type": "code",
      "source": [
        "%cd /content/match-steam-banners/data/\n",
        "!wget https://github.com/woctezuma/steam-DINO/releases/download/input/resized_vertical_steam_banners_v2.tar.gz\n",
        "!tar -xzf resized_vertical_steam_banners_v2.tar.gz"
      ],
      "metadata": {
        "id": "a4x-hpcDAc2O"
      },
      "execution_count": null,
      "outputs": []
    },
    {
      "cell_type": "markdown",
      "metadata": {
        "id": "3kTiGjf8VS8B"
      },
      "source": [
        "## 1. Features\n",
        "\n",
        "First, compute and store the 384/768 features for Small/Base corresponding to each banner."
      ]
    },
    {
      "cell_type": "markdown",
      "metadata": {
        "id": "F15jUh33Vq73"
      },
      "source": [
        "### Compute features\n",
        "\n",
        "For Simple/Small/16, it takes about 10 seconds to process 1k images. Total time: ~ 6 minutes.\n",
        "\n",
        "For Complex/Base/Base/8, it takes about 70 seconds to process 1k images. Total time: ~ 42 minutes."
      ]
    },
    {
      "cell_type": "code",
      "source": [
        "%pip install torchvision --upgrade > /dev/null"
      ],
      "metadata": {
        "id": "3FhPcCIHAtz8"
      },
      "execution_count": null,
      "outputs": []
    },
    {
      "cell_type": "code",
      "metadata": {
        "id": "EJp6NSMzIprZ"
      },
      "source": [
        "%cd /content/match-steam-banners/\n",
        "!python build_feature_index.py"
      ],
      "execution_count": null,
      "outputs": []
    },
    {
      "cell_type": "code",
      "metadata": {
        "id": "AfO3l_I5knqu"
      },
      "source": [
        "!du -sh data/label_database.avg.npy"
      ],
      "execution_count": null,
      "outputs": []
    },
    {
      "cell_type": "markdown",
      "metadata": {
        "id": "oqvODp25ViaQ"
      },
      "source": [
        "### Export feature data to Google Drive"
      ]
    },
    {
      "cell_type": "code",
      "metadata": {
        "id": "FpLXce415Uju"
      },
      "source": [
        "import colab_transfer as ct\n",
        "\n",
        "local_folder_name = 'match-steam-banners/data/'\n",
        "local_folder_path = ct.get_path_to_home_of_local_machine() + local_folder_name\n",
        "\n",
        "gdrive_folder_name ='steam-DINO/'\n",
        "gdrive_folder_path = ct.get_path_to_home_of_google_drive() + gdrive_folder_name"
      ],
      "execution_count": null,
      "outputs": []
    },
    {
      "cell_type": "code",
      "metadata": {
        "id": "E7_nq89IRnUc"
      },
      "source": [
        "# colab_transfer.copy_file('frozen_app_ids.txt',\n",
        "#                          source=local_folder_path,\n",
        "#                          destination=gdrive_folder_path)\n",
        "\n",
        "# colab_transfer.copy_file('label_database.avg.npy', \n",
        "#                          source=local_folder_path,\n",
        "#                          destination=gdrive_folder_path)"
      ],
      "execution_count": null,
      "outputs": []
    },
    {
      "cell_type": "markdown",
      "metadata": {
        "id": "OiOlXyHoWsqN"
      },
      "source": [
        "### Import feature data from Google Drive"
      ]
    },
    {
      "cell_type": "code",
      "metadata": {
        "id": "y1eUj8-eWpte"
      },
      "source": [
        "colab_transfer.copy_file('frozen_app_ids.txt',\n",
        "                         source=gdrive_folder_path,\n",
        "                         destination=local_folder_path)\n",
        "\n",
        "colab_transfer.copy_file('label_database.avg.npy', \n",
        "                         source=gdrive_folder_path,\n",
        "                         destination=local_folder_path)"
      ],
      "execution_count": null,
      "outputs": []
    },
    {
      "cell_type": "code",
      "metadata": {
        "id": "ZDJxlsKmQgdl"
      },
      "source": [
        "# Alternatively:\n",
        "\n",
        "from pathlib import Path\n",
        "\n",
        "%mkdir -p data\n",
        "\n",
        "if not Path('data/frozen_app_ids.txt').exists():\n",
        "  print('Downloading')\n",
        "  !gdown --id 1iNgl_3AJotauknzb-La9Dsw8h3I7QQYh\n",
        "  %mv frozen_app_ids.txt data/\n",
        "\n",
        "if not Path('data/label_database.avg.npy').exists():\n",
        "  print('Downloading')\n",
        "  !gdown --id 1-DxgMXIo0qTh1CJ-fiHEiCkOsiH8nyrC\n",
        "  %mv label_database.avg.npy data/"
      ],
      "execution_count": null,
      "outputs": []
    },
    {
      "cell_type": "markdown",
      "metadata": {
        "id": "WlbEsgkkV8As"
      },
      "source": [
        "## 2. Similar games\n",
        "\n",
        "Find the 10 most similar store banners to curated query appIDs."
      ]
    },
    {
      "cell_type": "markdown",
      "metadata": {
        "id": "oW8GNR7hpilI"
      },
      "source": [
        "### Ping SteamSpy and GameDataCrunch API\n",
        "\n",
        "SteamSpy API may block requests from Google Colab. In this case, responses are empty:\n",
        "\n",
        "> JSONDecodeError: Expecting value: line 1 column 1 (char 0)"
      ]
    },
    {
      "cell_type": "markdown",
      "metadata": {
        "id": "WKA8Clzs4Y3E"
      },
      "source": [
        "If you encounter this issue, you can bypass it by running the following from **your own local machine** to ping SteamSpy API:"
      ]
    },
    {
      "cell_type": "code",
      "source": [
        "%pip install steamspypi gamedatacrunch"
      ],
      "metadata": {
        "id": "4GzW7oLbAzsu"
      },
      "execution_count": null,
      "outputs": []
    },
    {
      "cell_type": "code",
      "metadata": {
        "id": "1zgpr925nr8l"
      },
      "source": [
        "%cd /content/match-steam-banners/\n",
        "!python steam_spy_utils.py"
      ],
      "execution_count": null,
      "outputs": []
    },
    {
      "cell_type": "markdown",
      "metadata": {
        "id": "H16LBYyX2xFn"
      },
      "source": [
        "Then **manually** upload the 2 cached files from within Colab's interface:\n",
        "```\n",
        "data/\n",
        "├ 20210116_gamedatacrunch.json   # GameDataCrunch database of games\n",
        "└ 20210116_top_100_app_ids.txt   # top100 most played games in the past 2 weeks\n",
        "```\n",
        "\n",
        "The GameDataCrunch database is used to retrieve game names corresponding to appIDs.\n",
        "\n",
        "Top 100 appIDs are used as a list of popular games to test our algorithm onto."
      ]
    },
    {
      "cell_type": "markdown",
      "metadata": {
        "id": "SeHYO2-oqRr7"
      },
      "source": [
        "### Run the workflow"
      ]
    },
    {
      "cell_type": "code",
      "source": [
        "# If juggling with different models to extract features,\n",
        "# then use a symbolic link as follows:\n",
        "\n",
        "model_choice = 'ComplexB8'\n",
        "\n",
        "%cd /content/match-steam-banners/data/\n",
        "!rm label_database.avg.npy\n",
        "!ln -s /content/out/label_database.{model_choice}.npy label_database.avg.npy\n",
        "\n",
        "# Caveat: the .npy file has to correspond to the values specified in dino_utils.py,\n",
        "# because features of query will be computed from scratch with values from dino_utils,\n",
        "# and then compared to pre-computed features stored in one of the files label_database.*.npy\n",
        "#\n",
        "# Therefore, manually adjust values in dino_utils.py to match values used for creating the .npy file!"
      ],
      "metadata": {
        "id": "VkT7_sRxCeYQ"
      },
      "execution_count": null,
      "outputs": []
    },
    {
      "cell_type": "code",
      "source": [
        "!echo {model_choice}"
      ],
      "metadata": {
        "id": "M2-QykcFCf46"
      },
      "execution_count": null,
      "outputs": []
    },
    {
      "cell_type": "code",
      "metadata": {
        "id": "jEaiSPNrWI3H"
      },
      "source": [
        "%cd /content/match-steam-banners/\n",
        "!python retrieve_similar_features.py > log_similar_{model_choice}.txt"
      ],
      "execution_count": null,
      "outputs": []
    },
    {
      "cell_type": "markdown",
      "metadata": {
        "id": "x-mP-HarV-pM"
      },
      "source": [
        "## 3. Unique games\n",
        "\n",
        "Find the one most similar store banner to all appIDs available on the store, then display the most unique games."
      ]
    },
    {
      "cell_type": "code",
      "source": [
        "# If juggling with different models to extract features,\n",
        "# then use a symbolic link as follows:\n",
        "\n",
        "model_choice = 'ComplexB8'\n",
        "\n",
        "%cd /content/match-steam-banners/data/\n",
        "!rm label_database.avg.npy\n",
        "!ln -s /content/out/label_database.{model_choice}.npy label_database.avg.npy\n",
        "\n",
        "# NB: the .npy file DOES NOT HAVE to correspond to the values specified in dino_utils.py,\n",
        "# because the following script ONLY RELIES ON PRE-COMPUTED features!\n",
        "#\n",
        "# Therefore, there is **no** need to manually adjust values in dino_utils.py!"
      ],
      "metadata": {
        "id": "UcRwoRXtC67-"
      },
      "execution_count": null,
      "outputs": []
    },
    {
      "cell_type": "code",
      "source": [
        "!echo {model_choice}"
      ],
      "metadata": {
        "id": "unF1dN8sCcWb"
      },
      "execution_count": null,
      "outputs": []
    },
    {
      "cell_type": "code",
      "source": [
        "# Ensure a potential JSON file storing the unique games is deleted\n",
        "# Otherwise, the file will be loaded from disk, instead of being created from scratch, by find_unique_games.py\n",
        "!rm /content/match-steam-banners/data/unique_games.avg.json"
      ],
      "metadata": {
        "id": "AbEKYw2CDEnM"
      },
      "execution_count": null,
      "outputs": []
    },
    {
      "cell_type": "code",
      "metadata": {
        "id": "J0NZ_fyRWJco"
      },
      "source": [
        "%cd /content/match-steam-banners/\n",
        "!python find_unique_games.py > log_unique_{model_choice}.txt"
      ],
      "execution_count": null,
      "outputs": []
    },
    {
      "cell_type": "markdown",
      "metadata": {
        "id": "eVu8CdWO0DyK"
      },
      "source": [
        "## 4. Export data and matches for a web app"
      ]
    },
    {
      "cell_type": "markdown",
      "metadata": {
        "id": "ni6MBiLaxGXF"
      },
      "source": [
        "Exact kNN search is performed with the `faiss` package, because it is noticably faster than with other packages.\n",
        "\n",
        "References:\n",
        "-   https://github.com/facebookresearch/faiss\n",
        "-   https://github.com/facebookresearch/faiss/wiki/Getting-started\n",
        "-   https://github.com/kyamagu/faiss-wheels"
      ]
    },
    {
      "cell_type": "code",
      "metadata": {
        "id": "jMqSxDo7BKQk"
      },
      "source": [
        "%pip install faiss-gpu"
      ],
      "execution_count": null,
      "outputs": []
    },
    {
      "cell_type": "code",
      "metadata": {
        "id": "m865mhjIEa6V"
      },
      "source": [
        "!wget -O IStoreService_page_1.json https://raw.githubusercontent.com/woctezuma/steam-store-snapshots/main/data/IStoreService.json\n",
        "!wget https://raw.githubusercontent.com/woctezuma/steam-store-snapshots/main/data/IStoreService_page_2.json"
      ],
      "execution_count": null,
      "outputs": []
    },
    {
      "cell_type": "code",
      "source": [
        "import json\n",
        "\n",
        "with open('IStoreService_page_1.json', 'r', encoding='utf8') as f:\n",
        "    data_1 = json.load(f)\n",
        "    l_1 = data_1[\"response\"][\"apps\"]\n",
        "    \n",
        "with open('IStoreService_page_2.json', 'r', encoding='utf8') as f:\n",
        "    data_2 = json.load(f)\n",
        "    l_2 = data_2[\"response\"][\"apps\"]\n",
        "\n",
        "data = dict()\n",
        "data['response'] = dict()\n",
        "data['response']['apps'] = l_1 + l_2\n",
        "\n",
        "with open('IStoreService.json', 'w', encoding='utf8') as f:\n",
        "    json.dump(data, f)"
      ],
      "metadata": {
        "id": "BCERexi6BZda"
      },
      "execution_count": null,
      "outputs": []
    },
    {
      "cell_type": "code",
      "source": [
        "# If juggling with different models to extract features,\n",
        "# then use a symbolic link as follows:\n",
        "\n",
        "model_choice = 'ComplexB8'\n",
        "\n",
        "%cd /content/match-steam-banners/data/\n",
        "!rm label_database.avg.npy\n",
        "!ln -s /content/out/label_database.{model_choice}.npy label_database.avg.npy\n",
        "\n",
        "# NB: the .npy file DOES NOT HAVE to correspond to the values specified in dino_utils.py,\n",
        "# because the following script ONLY RELIES ON PRE-COMPUTED features!\n",
        "#\n",
        "# Therefore, there is **no** need to manually adjust values in dino_utils.py!"
      ],
      "metadata": {
        "id": "MnyaZnS8DO24"
      },
      "execution_count": null,
      "outputs": []
    },
    {
      "cell_type": "code",
      "source": [
        "!echo {model_choice}"
      ],
      "metadata": {
        "id": "JPRfc2g2DP-f"
      },
      "execution_count": null,
      "outputs": []
    },
    {
      "cell_type": "code",
      "metadata": {
        "id": "h_eZ2N-HBFYl"
      },
      "source": [
        "%cd /content/match-steam-banners/\n",
        "!python export_data_for_web_app.py"
      ],
      "execution_count": null,
      "outputs": []
    },
    {
      "cell_type": "markdown",
      "metadata": {
        "id": "6IrYg3uCBxvz"
      },
      "source": [
        "Files (both .npy and .json) can be found in `data_export/`."
      ]
    },
    {
      "cell_type": "code",
      "metadata": {
        "id": "Uj8_Qslx3se6"
      },
      "source": [
        "!du -sh data_export/matches_faiss.npy"
      ],
      "execution_count": null,
      "outputs": []
    }
  ]
}